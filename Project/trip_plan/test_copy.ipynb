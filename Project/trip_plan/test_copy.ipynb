{
 "cells": [
  {
   "cell_type": "code",
   "execution_count": null,
   "metadata": {},
   "outputs": [],
   "source": [
    "# 환경변수에서 api키 가져오기\n",
    "import os\n",
    "from dotenv import load_dotenv\n",
    "load_dotenv()\n",
    "GOOGLE_API_KEY=os.getenv(\"GOOGLE_API_KEY\")\n",
    "TAVILY_API_KEY=os.getenv(\"TAVILY_API_KEY\")"
   ]
  },
  {
   "cell_type": "code",
   "execution_count": null,
   "metadata": {},
   "outputs": [],
   "source": [
    "# crewAI 라이브러리에서 필요한 클래스 가져오기\n",
    "from crewai import Agent, Task, Crew, Process\n",
    "from langchain_google_genai import ChatGoogleGenerativeAI\n",
    "\n",
    "#llm\n",
    "llm = ChatGoogleGenerativeAI(model='gemini-1.5-pro-latest', temperature=0, api_key=GOOGLE_API_KEY)"
   ]
  },
  {
   "cell_type": "code",
   "execution_count": null,
   "metadata": {},
   "outputs": [],
   "source": [
    "# web search tools\n",
    "\n",
    "from langchain_community.tools.tavily_search import TavilySearchResults\n",
    "search_tool = TavilySearchResults(api_key=TAVILY_API_KEY)"
   ]
  },
  {
   "cell_type": "code",
   "execution_count": null,
   "metadata": {},
   "outputs": [],
   "source": [
    "# PDF Search Tool\n",
    "from crewai_tools import PDFSearchTool\n",
    "\n",
    "pdf_tool = PDFSearchTool(pdf='2024 서울관광안내서_KR.pdf')\n",
    "\n",
    "pdf_tool2 = PDFSearchTool(pdf='2024 서울관광안내서_KR.pdf',\n",
    "    config=dict(\n",
    "        llm=dict(\n",
    "            provider=\"google\", # or google, openai, anthropic, llama2, ...\n",
    "            config=dict(\n",
    "                model=\"gemini-1.5-pro-latest\",\n",
    "                # temperature=0.5,\n",
    "                # top_p=1,\n",
    "                # stream=true,\n",
    "            ),\n",
    "        ),\n",
    "        embedder=dict(\n",
    "            provider=\"google\",\n",
    "            config=dict(\n",
    "                model=\"models/embedding-001\",\n",
    "                task_type=\"retrieval_document\",\n",
    "                # title=\"Embeddings\",\n",
    "            ),\n",
    "        ),\n",
    "    )\n",
    ")"
   ]
  },
  {
   "cell_type": "code",
   "execution_count": null,
   "metadata": {},
   "outputs": [],
   "source": [
    "# Custom Tool - google map web crawling. 필요하다면 추가\n",
    "from crewai_tools import tool\n",
    "\n",
    "from selenium import webdriver\n",
    "from selenium.webdriver.chrome.service import Service\n",
    "from webdriver_manager.chrome import ChromeDriverManager\n",
    "from selenium.webdriver.common.by import By\n",
    "from selenium.webdriver.common.keys import Keys\n",
    "from selenium.webdriver.support.ui import WebDriverWait\n",
    "from selenium.webdriver.support import expected_conditions as EC\n",
    "from bs4 import BeautifulSoup\n",
    "import time\n",
    "\n",
    "@tool(\"search_place_info\")\n",
    "def search_place_info(place_name: str) -> str:\n",
    "    \"\"\"\n",
    "    Searches for a location on Google Maps.\n",
    "    Returns operating hours, address, phone number, and fees.\n",
    "    \"\"\"\n",
    "\n",
    "\n",
    "    # Chrome 드라이버 설정\n",
    "    options = webdriver.ChromeOptions()\n",
    "    options.add_argument('--headless') \n",
    "\n",
    "    service = Service(ChromeDriverManager().install())\n",
    "\n",
    "    driver = webdriver.Chrome(service=service, options=options)\n",
    "    driver.get(\"https://www.google.com/maps/\")\n",
    "    driver.implicitly_wait(10)\n",
    "\n",
    "\n",
    "    # 검색창에 입력하기\n",
    "    input_search = driver.find_element(By.ID, 'searchboxinput')\n",
    "    input_search.send_keys(place_name)\n",
    "    driver.implicitly_wait(5)\n",
    "    input_search.send_keys(Keys.RETURN)\n",
    "    driver.implicitly_wait(5)\n",
    "    time.sleep(3)\n",
    "\n",
    "\n",
    "    # 장소가 여러 개 검색된 경우\n",
    "    if f\"{place_name}에대한검색결과\" in driver.page_source.replace(\" \", \"\"):\n",
    "        search_results = driver.find_elements(By.CSS_SELECTOR, 'div > div > div > div > a')\n",
    "\n",
    "        for n, item in enumerate(search_results):\n",
    "\n",
    "            try:\n",
    "\n",
    "                if place_name in item.get_attribute('aria-label'):\n",
    "                    item.click()\n",
    "                    driver.implicitly_wait(5)\n",
    "                    time.sleep(3)\n",
    "                    break\n",
    "\n",
    "            except:\n",
    "                pass\n",
    "\n",
    "\n",
    "    # 장소 정보 가져오기\n",
    "    soup = BeautifulSoup(driver.page_source, 'html.parser')\n",
    "    place_info = soup.find_all('div', attrs={'aria-label': place_name})\n",
    "    place_info_text = \"\\n\".join([info.text for info in place_info])\n",
    "\n",
    "    driver.quit()\n",
    "\n",
    "    return place_info_text"
   ]
  },
  {
   "cell_type": "code",
   "execution_count": null,
   "metadata": {},
   "outputs": [],
   "source": [
    "place_name = \"올림픽공원\"\n",
    "\n",
    "# Chrome 드라이버 설정\n",
    "options = webdriver.ChromeOptions()\n",
    "# options.add_argument('--headless') \n",
    "\n",
    "service = Service(ChromeDriverManager().install())\n",
    "\n",
    "driver = webdriver.Chrome(service=service, options=options)\n",
    "driver.get(\"https://www.google.com/maps/\")\n",
    "driver.implicitly_wait(10)"
   ]
  },
  {
   "cell_type": "code",
   "execution_count": null,
   "metadata": {},
   "outputs": [],
   "source": [
    "# 검색창에 입력하기\n",
    "input_search = driver.find_element(By.ID, 'searchboxinput')\n",
    "input_search.send_keys(place_name)\n",
    "driver.implicitly_wait(5)\n",
    "input_search.send_keys(Keys.RETURN)\n",
    "driver.implicitly_wait(5)\n",
    "time.sleep(3)"
   ]
  },
  {
   "cell_type": "code",
   "execution_count": null,
   "metadata": {},
   "outputs": [],
   "source": [
    "# 장소가 여러 개 검색된 경우\n",
    "if f\"{place_name}에대한검색결과\" in driver.page_source.replace(\" \", \"\"):\n",
    "    search_results = driver.find_elements(By.CSS_SELECTOR, 'div > div > div > div > a')\n",
    "\n",
    "    for n, item in enumerate(search_results):\n",
    "\n",
    "        try:\n",
    "\n",
    "            if place_name in item.get_attribute('aria-label'):\n",
    "                item.click()\n",
    "                driver.implicitly_wait(5)\n",
    "                time.sleep(3)\n",
    "                break\n",
    "\n",
    "        except:\n",
    "            pass"
   ]
  },
  {
   "cell_type": "code",
   "execution_count": null,
   "metadata": {},
   "outputs": [],
   "source": [
    "# 장소 정보 가져오기\n",
    "soup = BeautifulSoup(driver.page_source, 'html.parser')\n",
    "place_info = soup.find_all('div', attrs={'aria-label': place_name})\n",
    "place_info_text = \"\\n\".join([info.text for info in place_info])"
   ]
  },
  {
   "cell_type": "code",
   "execution_count": null,
   "metadata": {},
   "outputs": [],
   "source": [
    "print(place_info_text)"
   ]
  },
  {
   "cell_type": "code",
   "execution_count": null,
   "metadata": {},
   "outputs": [],
   "source": [
    "driver.quit()"
   ]
  },
  {
   "cell_type": "code",
   "execution_count": null,
   "metadata": {},
   "outputs": [],
   "source": [
    "# Agent\n",
    "def tour_planning_expert(cities, interests):\n",
    "  return Agent(\n",
    "role='Tour Planning Expert',\n",
    "goal=f'Select the best locations within {cities} based on weather, season, prices, and tourist preferences. Tourist preferences are {interests}',\n",
    "backstory=f'An expert in analyzing local data to pick ideal destinations within {cities}',\n",
    "verbose=True,\n",
    "tools=[pdf_tool2, search_place_info],\n",
    "allow_delegation=False,\n",
    "llm=llm,\n",
    "max_iter=3,\n",
    "max_rpm=10,\n",
    ")\n",
    "\n",
    "def local_expert(cities, interests):\n",
    "  return Agent(\n",
    "role=f'{cities} Local Expert',\n",
    "goal=f'Provide the BEST insights about the selected locations in {cities}',\n",
    "backstory=f\"\"\"A knowledgeable local guide with extensive information\n",
    "about {cities}'s attractions, customs, and hidden gems\"\"\",\n",
    "verbose=True,\n",
    "tools=[pdf_tool2, search_place_info],\n",
    "allow_delegation=False,\n",
    "llm=llm,\n",
    "max_iter=3,\n",
    "max_rpm=10,\n",
    ")\n",
    "\n",
    "# 여행 일정 짜줌\n",
    "def travel_concierge(cities, interests):\n",
    "  return Agent(\n",
    "role=f'{cities} Custom Travel Concierge',\n",
    "goal=f\"\"\"Create the most amazing travel itineraries for {cities} including budget and packing suggestions\"\"\",\n",
    "backstory=\"\"\"Specialist in Seoul travel planning and logistics with extensive experience\"\"\",\n",
    "verbose=True,\n",
    "ls=[search_tool],\n",
    "allow_delegation=False,\n",
    "llm=llm,\n",
    ")"
   ]
  },
  {
   "cell_type": "code",
   "execution_count": null,
   "metadata": {},
   "outputs": [],
   "source": [
    "# Tasks\n",
    "def seoul_location_selection_task(agent, cities, interests):\n",
    "  return Task(\n",
    "    description=f'Identify the best locations within {cities} for visiting based on current weather, season, and user interests. User interests are {interests}.  Explain in Korean Hangul',\n",
    "    agent=agent,\n",
    "    expected_output=f'A list of recommended locations in {cities}, including reasons for each selection'\n",
    ")\n",
    "\n",
    "\n",
    "def seoul_local_insights_task(agent, cities, interests):\n",
    "  return Task(\n",
    "    description=f'Provide detailed insights and information about selected locations in {cities}, including attractions, customs, and hidden gems. Explain in Korean Hangul',\n",
    "    agent=agent,\n",
    "    expected_output=f'Comprehensive information about each location, including what to see, do, and eat'\n",
    ")\n",
    "\n",
    "def seoul_travel_itinerary_task(agent, cities, interests):\n",
    "  return Task(\n",
    "    description=f'Create a detailed travel itinerary for {cities} that includes budgeting, packing suggestions, accommodations, and transportation. Explain in Korean Hangul',\n",
    "    agent=agent,\n",
    "    expected_output=f'A complete travel plan for {cities}, including a day-by-day itinerary, budget estimates, and packing list. Key locations and place names should be provided in both English and Korean, such as \"Museum(박물관)\".'\n",
    ")"
   ]
  },
  {
   "cell_type": "code",
   "execution_count": null,
   "metadata": {},
   "outputs": [],
   "source": [
    "# Crew 생성  \n",
    "\n",
    "trip_crew = Crew(\n",
    "    agents=[tour_planning_expert, local_expert, travel_concierge],\n",
    "    tasks=[seoul_location_selection_task, seoul_local_insights_task, seoul_travel_itinerary_task],\n",
    "    process=Process.hierarchical,\n",
    "    manager_llm=ChatGoogleGenerativeAI(model='gemini-1.5-pro-latest') \n",
    ")\n"
   ]
  },
  {
   "cell_type": "code",
   "execution_count": null,
   "metadata": {},
   "outputs": [],
   "source": [
    "# Crew 생성\n",
    "cities = input(\"What are the cities options you are interested in visiting?\")\n",
    "interests = input(\"What are some of your high level interests and hobbies?\")\n",
    "\n",
    "\n",
    "def trip_crew(cities,interests):\n",
    "  tour_planning_expert = tour_planning_expert(cities, interests)\n",
    "  local_expert = local_expert(cities, interests)\n",
    "  travel_concierge = travel_concierge(cities, interests)\n",
    "\n",
    "  seoul_location_selection_task = seoul_location_selection_task(tour_planning_expert, cities, interests)\n",
    "  seoul_local_insights_task = seoul_local_insights_task(local_expert, cities, interests)\n",
    "  seoul_travel_itinerary_task = seoul_travel_itinerary_task(travel_concierge, cities, interests)\n",
    "  return Crew(\n",
    "    agents=[tour_planning_expert, local_expert, travel_concierge],\n",
    "    tasks=[seoul_location_selection_task, seoul_local_insights_task, seoul_travel_itinerary_task],\n",
    "    process=Process.hierarchical,\n",
    "    manager_llm=ChatGoogleGenerativeAI(model='gemini-1.5-pro-latest')\n",
    "    )\n"
   ]
  },
  {
   "cell_type": "code",
   "execution_count": null,
   "metadata": {},
   "outputs": [],
   "source": [
    "# Process 실행\n",
    "trip_crew = trip_crew(cities, interests)\n",
    "result = trip_crew.kickoff()\n",
    "\n",
    "print(result)"
   ]
  },
  {
   "cell_type": "code",
   "execution_count": null,
   "metadata": {},
   "outputs": [],
   "source": []
  },
  {
   "cell_type": "code",
   "execution_count": null,
   "metadata": {},
   "outputs": [],
   "source": []
  }
 ],
 "metadata": {
  "kernelspec": {
   "display_name": "trip-plan-Lav_7JF7-py3.10",
   "language": "python",
   "name": "python3"
  },
  "language_info": {
   "codemirror_mode": {
    "name": "ipython",
    "version": 3
   },
   "file_extension": ".py",
   "mimetype": "text/x-python",
   "name": "python",
   "nbconvert_exporter": "python",
   "pygments_lexer": "ipython3",
   "version": "3.11.7"
  }
 },
 "nbformat": 4,
 "nbformat_minor": 2
}
